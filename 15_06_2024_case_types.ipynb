{
  "nbformat": 4,
  "nbformat_minor": 0,
  "metadata": {
    "colab": {
      "provenance": [],
      "authorship_tag": "ABX9TyPwMkXGGXiEFj15jqHE77yG",
      "include_colab_link": true
    },
    "kernelspec": {
      "name": "python3",
      "display_name": "Python 3"
    },
    "language_info": {
      "name": "python"
    }
  },
  "cells": [
    {
      "cell_type": "markdown",
      "metadata": {
        "id": "view-in-github",
        "colab_type": "text"
      },
      "source": [
        "<a href=\"https://colab.research.google.com/github/SanjeevKumar369/My_Pixeltest_June_2023/blob/main/15_06_2024_case_types.ipynb\" target=\"_parent\"><img src=\"https://colab.research.google.com/assets/colab-badge.svg\" alt=\"Open In Colab\"/></a>"
      ]
    },
    {
      "cell_type": "code",
      "execution_count": null,
      "metadata": {
        "id": "-EEuLEzsEil_"
      },
      "outputs": [],
      "source": [
        "# /content/1_civil.txt\n",
        "\n",
        "\n",
        "# /content/1_0_Criminal.txt\n",
        "# /content/1_1_Civil_Cases.txt\n",
        "\n",
        "\n",
        "\n",
        "import numpy as nd\n",
        "import pandas as pd\n",
        "criminal_file_path= \"/content/1_0_criminal.txt\"\n",
        "civil_file_path= \"/content/1_1_Civil_Cases.txt\"\n",
        "\n",
        "f1=pd.read_csv(civil_file_path)\n",
        "f2=pd.read_csv(civil_file_path)\n",
        "f1.head()\n",
        "f2.head()"
      ]
    },
    {
      "cell_type": "code",
      "source": [
        "import numpy as nd\n",
        "import pandas as pd\n",
        "\n",
        "\n",
        "\n",
        "# Path to the input text file (update this to your actual file path)\n",
        "criminal_file_path= \"/content/1_0_criminal.txt\"\n",
        "\n",
        "# Write the example data to the file (for demonstration purposes)\n",
        "with open(criminal_file_path, \"w\") as file:\n",
        "    file.write(data.strip())\n",
        "\n",
        "# Function to read and process the text file\n",
        "def process_file(criminal_file_path):\n",
        "    # Read the text file\n",
        "    with open(criminal_file_path, \"r\") as file:\n",
        "        lines = file.readlines()\n",
        "\n",
        "    # Split each line into three columns\n",
        "    rows = []\n",
        "    for line in lines:\n",
        "        parts = line.split(maxsplit=2)\n",
        "        rows.append(parts)\n",
        "\n",
        "    # Create a DataFrame with the specified column names\n",
        "    df_criminal = pd.DataFrame(rows, columns=['crm_id', 'crm_abbr', 'crm_full_form'])\n",
        "\n",
        "    return df_criminal\n",
        "\n",
        "# Process the file and create a DataFrame\n",
        "df_criminal = process_file(criminal_file_path)\n",
        "\n",
        "# Display the DataFrame to verify\n",
        "print(df_criminal)\n",
        "\n",
        "# Save the DataFrame to a CSV file\n",
        "output_criminal_file_path = \"criminal_case_type.csv\"\n",
        "df_criminal.to_csv(output_criminal_file_path, index=False)\n",
        "\n",
        "print(f\"CSV file saved to {output_criminal_file_path}\")\n"
      ],
      "metadata": {
        "colab": {
          "base_uri": "https://localhost:8080/"
        },
        "id": "MW6mZVUfJXzD",
        "outputId": "9dba25d5-0259-4869-8824-e23ba4532c58"
      },
      "execution_count": 13,
      "outputs": [
        {
          "output_type": "stream",
          "name": "stdout",
          "text": [
            "  crm_id crm_abbr                crm_full_form\n",
            "0      1      CRA               civil Appeal\\n\n",
            "1      2   CRA-AD  civil Appeal Acquittal DB\\n\n",
            "2      3   CRA-AS    civil Appeal Acquittal SB\n",
            "CSV file saved to criminal_case_type.csv\n"
          ]
        }
      ]
    },
    {
      "cell_type": "code",
      "source": [
        "import numpy as nd\n",
        "import pandas as pd\n",
        "\n",
        "\n",
        "\n",
        "# Example data in the text file\n",
        "data = \"\"\"\n",
        "1 CRA civil Appeal\n",
        "2 CRA-AD civil Appeal Acquittal DB\n",
        "3 CRA-AS civil Appeal Acquittal SB\n",
        "\"\"\"\n",
        "\n",
        "# Path to the input text file (update this to your actual file path)\n",
        "civil_file_path= \"/content/2_Civil_Cases.txt\"\n",
        "\n",
        "# Write the example data to the file (for demonstration purposes)\n",
        "with open(civil_file_path, \"w\") as file:\n",
        "    file.write(data.strip())\n",
        "\n",
        "# Function to read and process the text file\n",
        "def process_file(civil_file_path):\n",
        "    # Read the text file\n",
        "    with open(civil_file_path, \"r\") as file:\n",
        "        lines = file.readlines()\n",
        "\n",
        "    # Split each line into three columns\n",
        "    rows = []\n",
        "    for line in lines:\n",
        "        parts = line.split(maxsplit=2)\n",
        "        rows.append(parts)\n",
        "\n",
        "    # Create a DataFrame with the specified column names\n",
        "    df = pd.DataFrame(rows, columns=['civil_id', 'civial_abbr', 'civil_full_form'])\n",
        "\n",
        "    return df\n",
        "\n",
        "# Process the file and create a DataFrame\n",
        "df = process_file(civil_file_path)\n",
        "\n",
        "# Display the DataFrame to verify\n",
        "print(df)\n",
        "\n",
        "# Save the DataFrame to a CSV file\n",
        "output_civil_file_path = \"civil_case_type.csv\"\n",
        "df.to_csv(output_civil_file_path, index=False)\n",
        "\n",
        "print(f\"CSV file saved to {output_civil_file_path}\")"
      ],
      "metadata": {
        "colab": {
          "base_uri": "https://localhost:8080/"
        },
        "id": "REzo4vHoLLXR",
        "outputId": "586e7590-0c7c-4f76-c281-d24f1f01ab90"
      },
      "execution_count": 8,
      "outputs": [
        {
          "output_type": "stream",
          "name": "stdout",
          "text": [
            "  civil_id civial_abbr              civil_full_form\n",
            "0        1         CRA               civil Appeal\\n\n",
            "1        2      CRA-AD  civil Appeal Acquittal DB\\n\n",
            "2        3      CRA-AS    civil Appeal Acquittal SB\n",
            "CSV file saved to civil_case_type.csv\n"
          ]
        }
      ]
    },
    {
      "cell_type": "code",
      "source": [],
      "metadata": {
        "id": "iuyjNaESGmi0"
      },
      "execution_count": null,
      "outputs": []
    }
  ]
}