{
  "nbformat": 4,
  "nbformat_minor": 0,
  "metadata": {
    "colab": {
      "provenance": [],
      "authorship_tag": "ABX9TyP8NZaMHG//jJdNiZKGePTR",
      "include_colab_link": true
    },
    "kernelspec": {
      "name": "python3",
      "display_name": "Python 3"
    },
    "language_info": {
      "name": "python"
    }
  },
  "cells": [
    {
      "cell_type": "markdown",
      "metadata": {
        "id": "view-in-github",
        "colab_type": "text"
      },
      "source": [
        "<a href=\"https://colab.research.google.com/github/SanjeevKumar369/My_Pixeltest_June_2023/blob/main/List_Array_Missing_Value_Fill_Function.ipynb\" target=\"_parent\"><img src=\"https://colab.research.google.com/assets/colab-badge.svg\" alt=\"Open In Colab\"/></a>"
      ]
    },
    {
      "cell_type": "code",
      "execution_count": null,
      "metadata": {
        "colab": {
          "base_uri": "https://localhost:8080/"
        },
        "id": "juEXPGmaGfHJ",
        "outputId": "7c72a2e9-2ef7-4f86-8025-95e36ea66618"
      },
      "outputs": [
        {
          "output_type": "execute_result",
          "data": {
            "text/plain": [
              "list"
            ]
          },
          "metadata": {},
          "execution_count": 3
        }
      ],
      "source": [
        "distance=[1,2,3]\n",
        "type(distance)"
      ]
    },
    {
      "cell_type": "code",
      "source": [
        "# convert list into a numpy array\n",
        "import numpy as np\n",
        "distance=[1,2,3]\n",
        "np_dist =np.array(distance)\n",
        "type(np_dist)\n"
      ],
      "metadata": {
        "colab": {
          "base_uri": "https://localhost:8080/"
        },
        "id": "mX53V8ynGpPr",
        "outputId": "101a4a64-8876-4736-bb0e-4f5767682bdc"
      },
      "execution_count": null,
      "outputs": [
        {
          "output_type": "execute_result",
          "data": {
            "text/plain": [
              "numpy.ndarray"
            ]
          },
          "metadata": {},
          "execution_count": 4
        }
      ]
    },
    {
      "cell_type": "code",
      "source": [
        "ele_in_array=[[1,2,3], [4,5,6],[7,8,9]]\n",
        "print(type(ele_in_array))\n",
        "print(\"========\")\n",
        "ele_in_array\n"
      ],
      "metadata": {
        "colab": {
          "base_uri": "https://localhost:8080/"
        },
        "id": "FKVj58mIHFh6",
        "outputId": "4343151d-8826-4cf0-f2ac-5a8731d19316"
      },
      "execution_count": null,
      "outputs": [
        {
          "output_type": "stream",
          "name": "stdout",
          "text": [
            "<class 'list'>\n",
            "========\n"
          ]
        },
        {
          "output_type": "execute_result",
          "data": {
            "text/plain": [
              "[[1, 2, 3], [4, 5, 6], [7, 8, 9]]"
            ]
          },
          "metadata": {},
          "execution_count": 9
        }
      ]
    },
    {
      "cell_type": "code",
      "source": [
        "import numpy as np\n",
        "np_el_array1=np.array(ele_in_array)\n",
        "np_el_array1\n",
        "print(type(np_el_array1))\n",
        "print(\"========\")\n",
        "np_el_array1"
      ],
      "metadata": {
        "colab": {
          "base_uri": "https://localhost:8080/"
        },
        "id": "kB9suJN9OyaU",
        "outputId": "4f3bc27d-8201-4ffa-82e0-8de1d4c72795"
      },
      "execution_count": null,
      "outputs": [
        {
          "output_type": "stream",
          "name": "stdout",
          "text": [
            "<class 'numpy.ndarray'>\n",
            "========\n"
          ]
        },
        {
          "output_type": "execute_result",
          "data": {
            "text/plain": [
              "array([[1, 2, 3],\n",
              "       [4, 5, 6],\n",
              "       [7, 8, 9]])"
            ]
          },
          "metadata": {},
          "execution_count": 10
        }
      ]
    },
    {
      "cell_type": "code",
      "source": [
        "# Create an array with 3 rows and 6 columns\n",
        "array = [\n",
        "    [1, 2, 3, None, 5, 6],\n",
        "    [7, 8, None, 10, 11, 12],\n",
        "    [13, 14, 15, 16, None, 18]\n",
        "]\n",
        "\n",
        "# Print the array\n",
        "for row in array:\n",
        "    print(row)\n"
      ],
      "metadata": {
        "id": "IwkTpp8ZPGft",
        "colab": {
          "base_uri": "https://localhost:8080/"
        },
        "outputId": "1f3b3539-748d-42a6-c5a0-dd3f5e651984"
      },
      "execution_count": 1,
      "outputs": [
        {
          "output_type": "stream",
          "name": "stdout",
          "text": [
            "[1, 2, 3, None, 5, 6]\n",
            "[7, 8, None, 10, 11, 12]\n",
            "[13, 14, 15, 16, None, 18]\n"
          ]
        }
      ]
    },
    {
      "cell_type": "code",
      "source": [
        "def fill_array(array, fill_value):\n",
        "    for i in range(len(array)):\n",
        "        for j in range(len(array[i])):\n",
        "            if array[i][j] is None:\n",
        "                array[i][j] = fill_value\n",
        "\n",
        "# Create an array with 3 rows and 6 columns\n",
        "array = [\n",
        "    [1, 2, 3, None, 5, 6],\n",
        "    [7, 8, None, 10, 11, 12],\n",
        "    [13, 14, 15, 16, None, 18]\n",
        "]\n",
        "\n",
        "# Call the fill_array function to fill None values with 69\n",
        "fill_array(array, 69)\n",
        "\n",
        "# Print the updated array\n",
        "for row in array:\n",
        "    print(row)\n"
      ],
      "metadata": {
        "colab": {
          "base_uri": "https://localhost:8080/"
        },
        "id": "LktbzirEaJ1-",
        "outputId": "6e963e9e-6616-4df5-ea2c-0761896dc303"
      },
      "execution_count": 7,
      "outputs": [
        {
          "output_type": "stream",
          "name": "stdout",
          "text": [
            "[1, 2, 3, 69, 5, 6]\n",
            "[7, 8, 69, 10, 11, 12]\n",
            "[13, 14, 15, 16, 69, 18]\n"
          ]
        }
      ]
    },
    {
      "cell_type": "code",
      "source": [
        "# Array conversion=> list\n",
        "import numpy as np\n",
        "array = [\n",
        "    [1, 2, 3, None, 5, 6],\n",
        "    [7, 8, None, 10, 11, 12],\n",
        "    [13, 14, 15, 16, None, 18]\n",
        "]\n",
        "df=array\n",
        "\n",
        "print(\"Type of df is====: \"+ str(df))\n",
        "df1=np.array(df)\n",
        "print(\"Type of df1===>>> is: \"+str(df1))"
      ],
      "metadata": {
        "colab": {
          "base_uri": "https://localhost:8080/"
        },
        "id": "pUOpM0mSdJOP",
        "outputId": "33c6921b-3865-4c07-de4c-6f8bad910312"
      },
      "execution_count": 18,
      "outputs": [
        {
          "output_type": "stream",
          "name": "stdout",
          "text": [
            "Type of df is====: [[1, 2, 3, None, 5, 6], [7, 8, None, 10, 11, 12], [13, 14, 15, 16, None, 18]]\n",
            "Type of df1===>>> is: [[1 2 3 None 5 6]\n",
            " [7 8 None 10 11 12]\n",
            " [13 14 15 16 None 18]]\n"
          ]
        }
      ]
    },
    {
      "cell_type": "code",
      "source": [],
      "metadata": {
        "id": "KA1-tPLBhcSK"
      },
      "execution_count": null,
      "outputs": []
    }
  ]
}