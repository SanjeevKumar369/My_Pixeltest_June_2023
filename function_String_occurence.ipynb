{
  "nbformat": 4,
  "nbformat_minor": 0,
  "metadata": {
    "colab": {
      "provenance": [],
      "authorship_tag": "ABX9TyP+M/QQ1jT1Kb9XSv3433sv",
      "include_colab_link": true
    },
    "kernelspec": {
      "name": "python3",
      "display_name": "Python 3"
    },
    "language_info": {
      "name": "python"
    }
  },
  "cells": [
    {
      "cell_type": "markdown",
      "metadata": {
        "id": "view-in-github",
        "colab_type": "text"
      },
      "source": [
        "<a href=\"https://colab.research.google.com/github/SanjeevKumar369/My_Pixeltest_June_2023/blob/main/function_String_occurence.ipynb\" target=\"_parent\"><img src=\"https://colab.research.google.com/assets/colab-badge.svg\" alt=\"Open In Colab\"/></a>"
      ]
    },
    {
      "cell_type": "code",
      "execution_count": 1,
      "metadata": {
        "colab": {
          "base_uri": "https://localhost:8080/"
        },
        "id": "pcg5fKgN6kbU",
        "outputId": "08dd4eaf-cba7-4996-db18-dee29e352609"
      },
      "outputs": [
        {
          "output_type": "stream",
          "name": "stdout",
          "text": [
            "Number of occurrences: 3\n"
          ]
        }
      ],
      "source": [
        "def count_substring(main_string, sub_string):\n",
        "    count = 0\n",
        "    start = 0\n",
        "\n",
        "    while True:\n",
        "        start = main_string.find(sub_string, start)  # Find the next occurrence of the substring\n",
        "        if start == -1:  # If no further occurrences are found, break the loop\n",
        "            break\n",
        "        count += 1\n",
        "        start += 1  # Move start index to search for the next occurrence\n",
        "\n",
        "    return count\n",
        "\n",
        "# Example usage:\n",
        "main_string = \"hello world hello hello\"\n",
        "sub_string = \"hello\"\n",
        "print(\"Number of occurrences:\", count_substring(main_string, sub_string))\n"
      ]
    },
    {
      "cell_type": "code",
      "source": [
        "def string_length(string):\n",
        "    return len(string)\n",
        "\n",
        "# Example usage:\n",
        "input_string = \"fd7f1b130f02342f9d6f769d7b12662a4895425e1ee147f27ce08fbb038babh*\"\n",
        "print(\"Length of the string:\", string_length(input_string))\n"
      ],
      "metadata": {
        "colab": {
          "base_uri": "https://localhost:8080/"
        },
        "id": "mj9_DoeQ65QF",
        "outputId": "b9842ce5-d533-465d-b8a8-92099ec1f0e1"
      },
      "execution_count": 2,
      "outputs": [
        {
          "output_type": "stream",
          "name": "stdout",
          "text": [
            "Length of the string: 64\n"
          ]
        }
      ]
    },
    {
      "cell_type": "code",
      "source": [],
      "metadata": {
        "id": "g_a1h-te7Vhn"
      },
      "execution_count": null,
      "outputs": []
    }
  ]
}