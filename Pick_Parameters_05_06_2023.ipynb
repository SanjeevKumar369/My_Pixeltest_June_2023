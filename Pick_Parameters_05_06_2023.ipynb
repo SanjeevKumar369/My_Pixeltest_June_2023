{
  "nbformat": 4,
  "nbformat_minor": 0,
  "metadata": {
    "colab": {
      "provenance": [],
      "authorship_tag": "ABX9TyNG5McZLW+2vNG4fh7ILnce",
      "include_colab_link": true
    },
    "kernelspec": {
      "name": "python3",
      "display_name": "Python 3"
    },
    "language_info": {
      "name": "python"
    }
  },
  "cells": [
    {
      "cell_type": "markdown",
      "metadata": {
        "id": "view-in-github",
        "colab_type": "text"
      },
      "source": [
        "<a href=\"https://colab.research.google.com/github/SanjeevKumar369/My_Pixeltest_June_2023/blob/main/Pick_Parameters_05_06_2023.ipynb\" target=\"_parent\"><img src=\"https://colab.research.google.com/assets/colab-badge.svg\" alt=\"Open In Colab\"/></a>"
      ]
    },
    {
      "cell_type": "code",
      "execution_count": null,
      "metadata": {
        "id": "khAXR-Jnkf-U"
      },
      "outputs": [],
      "source": [
        "import pandas as pd\n",
        "\n",
        "file_path = \"/content/13_CRM_M_0.xlsx\"\n",
        "List_1 = pd.read_excel(file_path)\n",
        "print(List_1)\n"
      ]
    },
    {
      "cell_type": "code",
      "source": [
        "import pandas as pd\n",
        "\n",
        "file_path = \"/content/13_CRM_M_0.xlsx\"\n",
        "List_1 = pd.read_excel(file_path)\n",
        "\n",
        "first_row = List_1.iloc[0]\n",
        "print(first_row)\n",
        "\n"
      ],
      "metadata": {
        "id": "WjlNjTo4oXQg"
      },
      "execution_count": null,
      "outputs": []
    },
    {
      "cell_type": "code",
      "source": [
        "import pandas as pd\n",
        "from IPython.display import display\n",
        "\n",
        "file_path = \"/content/13_CRM_M_0.xlsx\"\n",
        "List_1 = pd.read_excel(file_path)\n",
        "\n",
        "first_row = List_1.iloc[0].to_frame()\n",
        "display(first_row)\n"
      ],
      "metadata": {
        "id": "VzYuUL2RsOtS"
      },
      "execution_count": null,
      "outputs": []
    },
    {
      "cell_type": "code",
      "source": [
        "import pandas as pd\n",
        "from IPython.display import display\n",
        "\n",
        "file_path = \"/content/13_CRM_M_0.xlsx\"\n",
        "List_1 = pd.read_excel(file_path)\n",
        "\n",
        "first_row = List_1.iloc[0].to_frame()\n",
        "display(first_row)\n"
      ],
      "metadata": {
        "id": "9f63o0-ny5kT"
      },
      "execution_count": null,
      "outputs": []
    },
    {
      "cell_type": "code",
      "source": [
        "import pandas as pd\n",
        "from IPython.display import display\n",
        "\n",
        "file_path = \"/content/13_CRM_M_0.xlsx\"\n",
        "List_1 = pd.read_excel(file_path)\n",
        "\n",
        "while True:\n",
        "    print(\"What would you like to do?\")\n",
        "    print(\"1. View first row\")\n",
        "    print(\"2. Add a new row\")\n",
        "    print(\"3. Edit a row\")\n",
        "    print(\"4. Delete a row\")\n",
        "    print(\"5. Save changes\")\n",
        "    print(\"6. Exit\")\n",
        "\n",
        "    choice = input(\"Enter your choice (1-6): \")\n",
        "\n",
        "    if choice == \"1\":\n",
        "        display(List_1.iloc[0].to_frame())\n",
        "    elif choice == \"2\":\n",
        "        new_row = {}  # Create an empty dictionary to store the values for the new row\n",
        "        for column in List_1.columns:\n",
        "            value = input(f\"Enter the value for {column}: \")\n",
        "            new_row[column] = value\n",
        "        List_1 = List_1.append(new_row, ignore_index=True)\n",
        "        print(\"New row added successfully!\")\n",
        "    elif choice == \"3\":\n",
        "        index = int(input(\"Enter the index of the row to edit: \"))\n",
        "        if index < 0 or index >= len(List_1):\n",
        "            print(\"Invalid index!\")\n",
        "        else:\n",
        "            for column in List_1.columns:\n",
        "                value = input(f\"Enter the new value for {column}: \")\n",
        "                List_1.at[index, column] = value\n",
        "            print(\"Row edited successfully!\")\n",
        "    elif choice == \"4\":\n",
        "        index = int(input(\"Enter the index of the row to delete: \"))\n",
        "        if index < 0 or index >= len(List_1):\n",
        "            print(\"Invalid index!\")\n",
        "        else:\n",
        "            List_1 = List_1.drop(index)\n",
        "            List_1 = List_1.reset_index(drop=True)\n",
        "            print(\"Row deleted successfully!\")\n",
        "    elif choice == \"5\":\n",
        "        List_1.to_excel(file_path, index=False)\n",
        "        print(\"Changes saved successfully!\")\n",
        "    elif choice == \"6\":\n",
        "        break\n",
        "    else:\n",
        "        print(\"Invalid choice! Please enter a number between 1 and 6.\")\n",
        "\n",
        "print(\"Thank you for using the interactive program!\")\n"
      ],
      "metadata": {
        "id": "orxT2Owbz14V"
      },
      "execution_count": null,
      "outputs": []
    },
    {
      "cell_type": "code",
      "source": [
        "import pandas as pd\n",
        "from IPython.display import display\n",
        "\n",
        "file_path = \"/content/13_CRM_M_0.xlsx\"\n",
        "List_1 = pd.read_excel(file_path)\n",
        "\n",
        "while True:\n",
        "    print(\"What would you like to do?\")\n",
        "    print(\"1. View first row\")\n",
        "    print(\"2. Add a new row\")\n",
        "    print(\"3. Edit a row\")\n",
        "    print(\"4. Delete a row\")\n",
        "    print(\"5. Save changes\")\n",
        "    print(\"6. Exit\")\n",
        "\n",
        "    choice = input(\"Enter your choice (1-6): \")\n",
        "\n",
        "    if choice == \"1\":\n",
        "        display(List_1.iloc[0].to_frame())\n",
        "    elif choice == \"2\":\n",
        "        new_row = {}  # Create an empty dictionary to store the values for the new row\n",
        "        for column in List_1.columns:\n",
        "            value = input(f\"Enter the value for {column} (leave blank to skip): \")\n",
        "            if value != \"\":\n",
        "                new_row[column] = value\n",
        "        if len(new_row) > 0:\n",
        "            List_1 = List_1.append(new_row, ignore_index=True)\n",
        "            print(\"New row added successfully!\")\n",
        "        else:\n",
        "            print(\"No values entered. Skipping row addition.\")\n",
        "    elif choice == \"3\":\n",
        "        index = int(input(\"Enter the index of the row to edit: \"))\n",
        "        if index < 0 or index >= len(List_1):\n",
        "            print(\"Invalid index!\")\n",
        "        else:\n",
        "            for column in List_1.columns:\n",
        "                value = input(f\"Enter the new value for {column} (leave blank to skip): \")\n",
        "                if value != \"\":\n",
        "                    List_1.at[index, column] = value\n",
        "            print(\"Row edited successfully!\")\n",
        "    elif choice == \"4\":\n",
        "        index = int(input(\"Enter the index of the row to delete: \"))\n",
        "        if index < 0 or index >= len(List_1):\n",
        "            print(\"Invalid index!\")\n",
        "        else:\n",
        "            List_1 = List_1.drop(index)\n",
        "            List_1 = List_1.reset_index(drop=True)\n",
        "            print(\"Row deleted successfully!\")\n",
        "    elif choice == \"5\":\n",
        "        List_1.to_excel(file_path, index=False)\n",
        "        print(\"Changes saved successfully!\")\n",
        "    elif choice == \"6\":\n",
        "        break\n",
        "    else:\n",
        "        print(\"Invalid choice! Please enter a number between 1 and 6.\")\n",
        "\n",
        "print(\"Thank you for using the interactive program!\")\n"
      ],
      "metadata": {
        "id": "PjFZR15T4UtV"
      },
      "execution_count": null,
      "outputs": []
    },
    {
      "cell_type": "code",
      "source": [
        "# Picking Parameters from Excel File \n",
        "\n",
        "import pandas as pd\n",
        "from IPython.display import display\n",
        "\n",
        "file_path = \"/content/13_CRM_M_0.xlsx\"\n",
        "List_1 = pd.read_excel(file_path)\n",
        "print(List_1)\n"
      ],
      "metadata": {
        "id": "ZMvfavwRTkY7"
      },
      "execution_count": null,
      "outputs": []
    },
    {
      "cell_type": "code",
      "source": [
        "# Read_13_CRM_M_0.xlsx\n",
        "import pandas as pd\n",
        "# Read the Excel file\n",
        "file_path = \"/content/13_CRM_M_0.xlsx\"\n",
        "List_1 = pd.read_excel(file_path)\n",
        "df = pd.read_excel('13_CRM_M_0.xlsx')\n",
        "\n",
        "# Extract the rows and columns\n",
        "Roww = df.values.tolist()  # Convert DataFrame to a list of rows\n",
        "Coluu = df.columns.tolist()  # Extract column names\n",
        "\n",
        "# Print the rows and columns\n",
        "print(\"Rows:\")\n",
        "for row in Roww:\n",
        "    print(row)\n",
        "\n",
        "print(\"\\nColumns:\")\n",
        "for col in Coluu:\n",
        "    print(col)\n",
        "Roww = df.values.tolist()  # Convert DataFrame to a list of rows\n",
        "print(\"Rows:\")\n",
        "for row in range(0,1):\n",
        "    print(\"This is Value of First element=\", Roww)\n",
        "\n"
      ],
      "metadata": {
        "id": "WpIfE1SdazwO"
      },
      "execution_count": null,
      "outputs": []
    },
    {
      "cell_type": "code",
      "source": [],
      "metadata": {
        "id": "0oDnrfva2bFf"
      },
      "execution_count": null,
      "outputs": []
    }
  ]
}