{
  "nbformat": 4,
  "nbformat_minor": 0,
  "metadata": {
    "colab": {
      "provenance": [],
      "authorship_tag": "ABX9TyPBhBUwxx/LFGqDwXNylOhe",
      "include_colab_link": true
    },
    "kernelspec": {
      "name": "python3",
      "display_name": "Python 3"
    },
    "language_info": {
      "name": "python"
    }
  },
  "cells": [
    {
      "cell_type": "markdown",
      "metadata": {
        "id": "view-in-github",
        "colab_type": "text"
      },
      "source": [
        "<a href=\"https://colab.research.google.com/github/SanjeevKumar369/My_Pixeltest_June_2023/blob/main/Series%20and%20Dictionaries%2011_10_2023.ipynb\" target=\"_parent\"><img src=\"https://colab.research.google.com/assets/colab-badge.svg\" alt=\"Open In Colab\"/></a>"
      ]
    },
    {
      "cell_type": "code",
      "execution_count": null,
      "metadata": {
        "colab": {
          "base_uri": "https://localhost:8080/"
        },
        "id": "zblzHdmnJVTb",
        "outputId": "02f31120-0930-4484-c505-3cb0665d6c1f"
      },
      "outputs": [
        {
          "output_type": "stream",
          "name": "stdout",
          "text": [
            "   Column_Name\n",
            "0           10\n",
            "1           20\n",
            "2           30\n",
            "3           40\n",
            "4           50\n"
          ]
        }
      ],
      "source": [
        "import pandas as pd\n",
        "data = pd.Series([10, 20, 30, 40, 50])\n",
        "df = pd.DataFrame({'Column_Name': data})\n",
        "print(df)\n"
      ]
    },
    {
      "cell_type": "markdown",
      "source": [],
      "metadata": {
        "id": "8Wkr19f5QcaV"
      }
    },
    {
      "cell_type": "code",
      "source": [
        "import pandas as pd\n",
        "data = [    {'Name': \"Suresh\", 'Age': 25, 'City': \"Delhi\"},\n",
        "    {'Name': \"Kamal\", 'Age': 30, 'City': \"Shimla\"},\n",
        "    {'Name': \"Pawan\", 'Age': 22, 'City': \"Panchkula\"},]\n",
        "df = pd.DataFrame(data)\n",
        "print(df)\n"
      ],
      "metadata": {
        "colab": {
          "base_uri": "https://localhost:8080/"
        },
        "id": "pnDWht6MRCOV",
        "outputId": "a2544a07-ba3e-4752-da04-1cffc5bf238e"
      },
      "execution_count": null,
      "outputs": [
        {
          "output_type": "stream",
          "name": "stdout",
          "text": [
            "     Name  Age       City\n",
            "0  Suresh   25      Delhi\n",
            "1   Kamal   30     Shimla\n",
            "2   Pawan   22  Panchkula\n"
          ]
        }
      ]
    },
    {
      "cell_type": "code",
      "source": [
        "import pandas as pd\n",
        "\n",
        "data = [\n",
        "    {'Name': \"Suresh    \", 'Age': 25, 'City': \"      Delhi\"},\n",
        "    {'Name': \"Kamal\", 'Age': 30, 'City': \"Shimla\"},\n",
        "    {'Name': \"Pawan\", 'Age': 22, 'City': \"Panchkula\"},\n",
        "]\n",
        "\n",
        "df = pd.DataFrame(data)\n",
        "\n",
        "# Cleaning operations\n",
        "# 1. Removing Leading and Trailing Whitespace\n",
        "df['Name'] = df['Name'].str.strip()\n",
        "df['City'] = df['City'].str.strip()\n",
        "\n",
        "# 2. Converting to Uppercase (for example)\n",
        "df['Name'] = df['Name'].str.upper()\n",
        "df['City'] = df['City'].str.upper()\n",
        "\n",
        "print(df)\n"
      ],
      "metadata": {
        "colab": {
          "base_uri": "https://localhost:8080/"
        },
        "id": "D3qYZyulRxtA",
        "outputId": "4c7b17f0-b58f-40c4-c7fd-4f24c9f7d257"
      },
      "execution_count": null,
      "outputs": [
        {
          "output_type": "stream",
          "name": "stdout",
          "text": [
            "     Name  Age       City\n",
            "0  SURESH   25      DELHI\n",
            "1   KAMAL   30     SHIMLA\n",
            "2   PAWAN   22  PANCHKULA\n"
          ]
        }
      ]
    },
    {
      "cell_type": "code",
      "source": [
        "import pandas as pd\n",
        "\n",
        "# Create a sample DataFrame\n",
        "data = {'Name': [\"Suresh\", \"Kamal\", \"Pawan\", \"Raj\", \"Sachin\"],\n",
        "        'Age': [25, 30, 22, 28, 35],\n",
        "        'City': [\"Delhi\", \"Shimla\", \"Panchkula\", \"Mumbai\", \"Bangalore\"]}\n",
        "\n",
        "df = pd.DataFrame(data)\n",
        "\n",
        "# Find the row with the maximum\n",
        "# 'Age'\n",
        "max_age_index = df['Age'].idxmax()\n",
        "row_with_max_age = df.loc[max_age_index]\n",
        "\n",
        "# Find the row with the minimum 'Age'\n",
        "min_age_index = df['Age'].idxmin()\n",
        "row_with_min_age = df.loc[min_age_index]\n",
        "\n",
        "# Print the results\n",
        "print(\"Row with maximum Age:\")\n",
        "print(row_with_max_age)\n",
        "\n",
        "print(\"\\nRow with minimum Age:\")\n",
        "print(row_with_min_age)\n"
      ],
      "metadata": {
        "colab": {
          "base_uri": "https://localhost:8080/"
        },
        "id": "Ea5zxjJQVxjR",
        "outputId": "db8956ea-7fc1-4faf-84f1-14b89d96a748"
      },
      "execution_count": null,
      "outputs": [
        {
          "output_type": "stream",
          "name": "stdout",
          "text": [
            "Row with maximum Age:\n",
            "Name       Sachin\n",
            "Age            35\n",
            "City    Bangalore\n",
            "Name: 4, dtype: object\n",
            "\n",
            "Row with minimum Age:\n",
            "Name        Pawan\n",
            "Age            22\n",
            "City    Panchkula\n",
            "Name: 2, dtype: object\n"
          ]
        }
      ]
    },
    {
      "cell_type": "code",
      "source": [
        "import pandas as pd\n",
        "\n",
        "data = {\n",
        "    'Diary Number': [5886100],\n",
        "    'Case_Type': ['CRR(F)'],\n",
        "    'District': ['Rohtak'],\n",
        "    'Fiiling_date': ['14.10.2021'],\n",
        "    'Petitioner_Name': ['Naina Kashyap'],\n",
        "    'Age': [43]\n",
        "}\n",
        "df = pd.DataFrame(data)\n",
        "print(df)\n"
      ],
      "metadata": {
        "colab": {
          "base_uri": "https://localhost:8080/"
        },
        "id": "GrydeGd9V7si",
        "outputId": "e3afb2b9-8942-43b4-c6f4-415087137913"
      },
      "execution_count": null,
      "outputs": [
        {
          "output_type": "stream",
          "name": "stdout",
          "text": [
            "   Diary Number Case_Type District Fiiling_date Petitioner_Name  Age\n",
            "0       5886100    CRR(F)   Rohtak   14.10.2021   Naina Kashyap   43\n"
          ]
        }
      ]
    },
    {
      "cell_type": "code",
      "source": [
        "import pandas as pd\n",
        "data = {\n",
        "    'District': ['Rohtak'],\n",
        "    'Name': ['Naina Kashyap'],\n",
        "    'Age': [43]\n",
        "}\n",
        "df = pd.DataFrame(data)\n",
        "print(df)\n"
      ],
      "metadata": {
        "colab": {
          "base_uri": "https://localhost:8080/"
        },
        "id": "4ALrwTYLcIvP",
        "outputId": "0829e11d-16af-432f-a3f9-b24f1ab876d3"
      },
      "execution_count": null,
      "outputs": [
        {
          "output_type": "stream",
          "name": "stdout",
          "text": [
            "  District           Name  Age\n",
            "0   Rohtak  Naina Kashyap   43\n"
          ]
        }
      ]
    },
    {
      "cell_type": "code",
      "source": [],
      "metadata": {
        "id": "yxYi0SUy3adg"
      },
      "execution_count": null,
      "outputs": []
    },
    {
      "cell_type": "code",
      "source": [
        "import pandas as pd\n",
        "data = pd.Series([10, 20, 30, 40, 50])\n",
        "df = pd.DataFrame({'Column_Name': data})\n",
        "print(df)\n"
      ],
      "metadata": {
        "id": "QQzIOGlqczof"
      },
      "execution_count": null,
      "outputs": []
    },
    {
      "cell_type": "code",
      "source": [
        "import pandas as pd\n",
        "data = pd.Series([1,2,3])\n",
        "df = pd.DataFrame({'Column_Name': data})\n",
        "print(df)"
      ],
      "metadata": {
        "id": "VjvqxdOddPYT"
      },
      "execution_count": null,
      "outputs": []
    },
    {
      "cell_type": "code",
      "source": [
        "import pandas as pd\n",
        "\n",
        "data = [\n",
        "    {'Name': \"Suresh    \", 'Age': 25, 'City': \"      Delhi\"},\n",
        "    {'Name': \"Kamal\", 'Age': 30, 'City': \"Shimla\"},\n",
        "    {'Name': \"Pawan\", 'Age': 22, 'City': \"Panchkula\"},\n",
        "]\n",
        "\n",
        "df = pd.DataFrame(data)\n",
        "\n",
        "# Cleaning operations\n",
        "# Removing Leading and Trailing #Whitespace\n",
        "df['Name'] = df['Name'].str.strip()\n",
        "df['City'] = df['City'].str.strip()\n",
        "print(df)\n"
      ],
      "metadata": {
        "colab": {
          "base_uri": "https://localhost:8080/"
        },
        "id": "QaIFPltwpokz",
        "outputId": "51f7acf1-2a9c-4a9e-eba4-e93506fdc154"
      },
      "execution_count": null,
      "outputs": [
        {
          "output_type": "stream",
          "name": "stdout",
          "text": [
            "     Name  Age       City\n",
            "0  Suresh   25      Delhi\n",
            "1   Kamal   30     Shimla\n",
            "2   Pawan   22  Panchkula\n"
          ]
        }
      ]
    },
    {
      "cell_type": "code",
      "source": [
        "import pandas as pd\n",
        "# Create a sample DataFrame\n",
        "data = {'Name': [\"Suresh\", \"Kamal\", \"Pawan\", \"Raj\", \"Sachin\"],\n",
        "        'Age': [25, 30, 22, 28, 35],\n",
        "        'City': [\"Delhi\", \"Shimla\", \"Panchkula\", \"Mumbai\", \"Bangalore\"]}\n",
        "df = pd.DataFrame(data)\n",
        "# Find the row with the maximum\n",
        "# 'Age'\n",
        "max_age_index = df['Age'].idxmax()\n",
        "row_with_max_age = df.loc[max_age_index]\n",
        "# Find the row with the minimum 'Age'\n",
        "min_age_index = df['Age'].idxmin()\n",
        "row_with_min_age = df.loc[min_age_index]\n",
        "# Print the results\n",
        "print(\"Row with maximum Age:\")\n",
        "print(row_with_max_age)\n",
        "print(\"\\nRow with minimum Age:\")\n",
        "print(row_with_min_age)\n"
      ],
      "metadata": {
        "colab": {
          "base_uri": "https://localhost:8080/"
        },
        "id": "Uyw8qKs9qEAn",
        "outputId": "a6385f0f-dc3e-4bed-d051-06b88249d3f7"
      },
      "execution_count": null,
      "outputs": [
        {
          "output_type": "stream",
          "name": "stdout",
          "text": [
            "Row with maximum Age:\n",
            "Name       Sachin\n",
            "Age            35\n",
            "City    Bangalore\n",
            "Name: 4, dtype: object\n",
            "\n",
            "Row with minimum Age:\n",
            "Name        Pawan\n",
            "Age            22\n",
            "City    Panchkula\n",
            "Name: 2, dtype: object\n"
          ]
        }
      ]
    },
    {
      "cell_type": "code",
      "source": [
        "import pandas as pd\n",
        "data = {\n",
        "    'District': ['Rewari'],\n",
        "    'Name': ['Manoj Kumar'],\n",
        "    'Age': [46]\n",
        "}\n",
        "df = pd.DataFrame(data)\n",
        "print(df)"
      ],
      "metadata": {
        "colab": {
          "base_uri": "https://localhost:8080/"
        },
        "id": "sXbt3yAyppC1",
        "outputId": "f93ec014-2a4b-4dd1-95f3-80088aefc6cb"
      },
      "execution_count": null,
      "outputs": [
        {
          "output_type": "stream",
          "name": "stdout",
          "text": [
            "  District         Name  Age\n",
            "0   Rewari  Manoj Kumar   46\n"
          ]
        }
      ]
    },
    {
      "cell_type": "code",
      "source": [
        "import pandas as pd\n",
        "\n",
        "# Create the DataFrame from the given data\n",
        "data = {\n",
        "    'District': ['Rewari'],\n",
        "    'Name': ['Manoj Kumar'],\n",
        "    'Age': [46]\n",
        "}\n",
        "\n",
        "df = pd.DataFrame(data)\n",
        "\n",
        "# Set the 'District' column as the index\n",
        "df.set_index('District', inplace=True)\n",
        "\n",
        "# Print the resulting DataFrame\n",
        "print(df)\n"
      ],
      "metadata": {
        "colab": {
          "base_uri": "https://localhost:8080/"
        },
        "id": "o6aP5VE_4B-U",
        "outputId": "784d0789-5880-47f4-8545-e326c7996a49"
      },
      "execution_count": null,
      "outputs": [
        {
          "output_type": "stream",
          "name": "stdout",
          "text": [
            "                 Name  Age\n",
            "District                  \n",
            "Rewari    Manoj Kumar   46\n"
          ]
        }
      ]
    },
    {
      "cell_type": "code",
      "source": [
        "import pandas as pd\n",
        "\n",
        "# Create the DataFrame from the given data\n",
        "data = {\n",
        "    'District': ['Rewari'],\n",
        "    'Name': ['Manoj Kumar'],\n",
        "    'Age': [46]\n",
        "}\n",
        "\n",
        "df = pd.DataFrame(data)\n",
        "\n",
        "# Transpose the DataFrame (convert rows to columns)\n",
        "df_transposed = df.T\n",
        "\n",
        "# Reset the index to have the columns named properly\n",
        "df_transposed.reset_index(inplace=True)\n",
        "df_transposed.columns = ['Attribute', 'Value']\n",
        "\n",
        "# Print the transposed DataFrame\n",
        "print(df_transposed)\n"
      ],
      "metadata": {
        "id": "Gw8SlRYv9ZYc"
      },
      "execution_count": null,
      "outputs": []
    },
    {
      "cell_type": "code",
      "source": [
        "import pandas as pd\n",
        "\n",
        "# Create the DataFrame from the given data\n",
        "data = {\n",
        "    'District': ['Rewari'],\n",
        "    'Name': ['Manoj Kumar'],\n",
        "    'Age': [46]\n",
        "}\n",
        "\n",
        "df = pd.DataFrame(data)\n",
        "\n",
        "# Rename the columns\n",
        "df = df.rename(columns={'District': 'NewDistrict', 'Name': 'NewName', 'Age': 'NewAge'})\n",
        "\n",
        "# Print the DataFrame with the renamed columns\n",
        "print(df)\n"
      ],
      "metadata": {
        "colab": {
          "base_uri": "https://localhost:8080/"
        },
        "id": "aZUc0okl-BfS",
        "outputId": "1995614f-d004-49a0-e2a6-14324078727d"
      },
      "execution_count": null,
      "outputs": [
        {
          "output_type": "stream",
          "name": "stdout",
          "text": [
            "  NewDistrict      NewName  NewAge\n",
            "0      Rewari  Manoj Kumar      46\n"
          ]
        }
      ]
    },
    {
      "cell_type": "code",
      "source": [
        "import pandas as pd\n",
        "\n",
        "# Create a Series from the given data\n",
        "data = {\n",
        "    'District': ['Rewari'],\n",
        "    'Name': ['Manoj Kumar'],\n",
        "    'Age': [46]\n",
        "}\n",
        "\n",
        "series = pd.Series(data)\n",
        "\n",
        "# Access elements by label (index)\n",
        "district_value = series['District']\n",
        "name_value = series['Name']\n",
        "age_value = series['Age']\n",
        "\n",
        "# Print the values\n",
        "print(\"District:\", district_value)\n",
        "print(\"Name:\", name_value)\n",
        "print(\"Age:\", age_value)\n"
      ],
      "metadata": {
        "colab": {
          "base_uri": "https://localhost:8080/"
        },
        "id": "lrRLESHB-O5P",
        "outputId": "8d70afa1-f80b-41bc-d9ce-3078e0891c5f"
      },
      "execution_count": null,
      "outputs": [
        {
          "output_type": "stream",
          "name": "stdout",
          "text": [
            "District: ['Rewari']\n",
            "Name: ['Manoj Kumar']\n",
            "Age: [46]\n"
          ]
        }
      ]
    },
    {
      "cell_type": "code",
      "source": [
        "import pandas as pd\n",
        "import numpy as np\n",
        "\n",
        "# Create a DataFrame with missing #values\n",
        "data = {\n",
        "    'District': ['Rewari', 'Gurgaon', 'Faridabad', np.nan, 'Hisar'],\n",
        "    'Name': ['Manoj Kumar', 'Sunita Sharma', np.nan, 'Rajesh Mehta', 'Neha Gupta'],\n",
        "    'Age': [46, np.nan, 33, 28, 35]\n",
        "}\n",
        "\n",
        "df = pd.DataFrame(data)\n",
        "\n",
        "# Replace missing values with a specific value (e.g., 0)\n",
        "df_filled = df.fillna(0)\n",
        "\n",
        "# Print the DataFrame with missing values replaced\n",
        "print(df_filled)\n"
      ],
      "metadata": {
        "id": "gpoj8hNIAfyd"
      },
      "execution_count": null,
      "outputs": []
    },
    {
      "cell_type": "code",
      "source": [
        "import pandas as pd\n",
        "import numpy as np\n",
        "\n",
        "# Create a DataFrame with missing #values\n",
        "data = {\n",
        "    'District': ['Rewari', 'Gurgaon', 'Faridabad', np.nan, 'Hisar'],\n",
        "    'Name': ['Manoj Kumar', 'Sunita Sharma', np.nan, 'Rajesh Mehta', 'Neha Gupta'],\n",
        "    'Age': [46, np.nan, 33, 28, 35]\n",
        "}\n",
        "\n",
        "df = pd.DataFrame(data)\n",
        "\n",
        "# Replace missing values with a\n",
        "# specific value (e.g., MISSING)\n",
        "df_filled = df.fillna('MISSING')\n",
        "\n",
        "# Print the DataFrame with missing\n",
        " # values replaced\n",
        "print(df_filled)\n"
      ],
      "metadata": {
        "id": "DdIDkADFBHsp"
      },
      "execution_count": null,
      "outputs": []
    },
    {
      "cell_type": "code",
      "source": [
        "import pandas as pd\n",
        "import numpy as np\n",
        "\n",
        "# Create a DataFrame with missing #values\n",
        "data = {\n",
        "    'District': ['Rewari', 'Gurgaon', 'Faridabad', np.nan, 'Hisar'],\n",
        "    'Name': ['Manoj Kumar', 'Sunita Sharma', np.nan, 'Rajesh Mehta', 'Neha Gupta'],\n",
        "    'Age': [46, np.nan, 33, 28, 35]\n",
        "}\n",
        "\n",
        "df = pd.DataFrame(data)\n",
        "\n",
        "# Replace missing values with a\n",
        "# specific value (e.g., 0)\n",
        "df_filled = df.fillna(0)\n",
        "\n",
        "# Print the DataFrame with missing\n",
        " # values replaced\n",
        "print(df_filled)\n"
      ],
      "metadata": {
        "id": "s0z-Np6qBv_i"
      },
      "execution_count": null,
      "outputs": []
    },
    {
      "cell_type": "code",
      "source": [
        "import pandas as pd\n",
        "import numpy as np\n",
        "\n",
        "# Create a DataFrame with missing #values\n",
        "data = {\n",
        "    'District': ['Rewari', 'Gurgaon', 'Faridabad', np.nan, 'Hisar'],\n",
        "    'Name': ['Manoj Kumar', 'Sunita Sharma', np.nan, 'Rajesh Mehta', 'Neha Gupta'],\n",
        "    'Age': [46, np.nan, 33, 28, 35]\n",
        "}\n",
        "\n",
        "df = pd.DataFrame(data)\n",
        "\n",
        "# Replace missing values with a\n",
        "# specific value (e.g., 'NAN')\n",
        "df_filled = df.fillna('===NAN===')\n",
        "\n",
        "# Print the DataFrame with missing\n",
        " # values replaced\n",
        "print(df_filled)\n"
      ],
      "metadata": {
        "colab": {
          "base_uri": "https://localhost:8080/"
        },
        "id": "txm4KUh3B62x",
        "outputId": "b3da9227-3b56-47b5-90db-9809288c5d49"
      },
      "execution_count": null,
      "outputs": [
        {
          "output_type": "stream",
          "name": "stdout",
          "text": [
            "    District           Name        Age\n",
            "0     Rewari    Manoj Kumar       46.0\n",
            "1    Gurgaon  Sunita Sharma  ===NAN===\n",
            "2  Faridabad      ===NAN===       33.0\n",
            "3  ===NAN===   Rajesh Mehta       28.0\n",
            "4      Hisar     Neha Gupta       35.0\n"
          ]
        }
      ]
    }
  ]
}